{
 "cells": [
  {
   "cell_type": "code",
   "execution_count": 1,
   "metadata": {},
   "outputs": [],
   "source": [
    "import librosa as lr\n",
    "import numpy as np\n",
    "import scipy.signal as signal\n",
    "import soundfile as sf\n",
    "import matplotlib.pyplot as plt\n",
    "from scipy.io import wavfile\n",
    "import IPython.display as ipd\n",
    "from AudioUtilsCustom import *\n",
    "\n",
    "\n"
   ]
  },
  {
   "cell_type": "code",
   "execution_count": 2,
   "metadata": {},
   "outputs": [],
   "source": [
    "from compression_custom import Audiopackage\n",
    "from compression_custom import AudioSegment\n",
    "import time\n"
   ]
  },
  {
   "cell_type": "code",
   "execution_count": 3,
   "metadata": {},
   "outputs": [],
   "source": [
    "# filepath = 'C:\\\\Users\\\\chorj\\\\Downloads\\\\WavFiles'\n",
    "# input_file1 = filepath + '\\\\Hercules_dry_Drums_Kick.wav'\n",
    "# input_file2 = filepath + '\\\\Hercules_dry_Drums_Loop.wav'\n",
    "\n",
    "import os\n",
    "filepath = 'data/Hercules_Dry(AbelEdit)'\n",
    "input_file1 = os.path.join(filepath, 'Hercules_dry_Drums_Kick.wav')\n",
    "input_file2 = os.path.join(filepath, 'Hercules_dry_Drums_Loop.wav')\n",
    "\n",
    "# Read the wav file \n",
    "#samplerate1, data1 = wavfile.read(input_file1)\n",
    "#samplerate2, data2 = wavfile.read(input_file2)\n",
    "#print('Sampling rate = ', samplerate1)\n",
    "#dt1, sr1 = lr.load(input_file1, sr = samplerate1)\n",
    "#dt2, sr2 = lr.load(input_file2, sr = samplerate2)\n"
   ]
  },
  {
   "cell_type": "code",
   "execution_count": 4,
   "metadata": {},
   "outputs": [],
   "source": [
    "# #TODO: 각 시도마다 초기화가 완전히 안 되어서 time measurement가 정확하지 않음.\n",
    "# start_time = time.time()\n",
    "# example = Audiopackage(input_file1, \"exact\")\n",
    "\n",
    "# newtime = time.time() - start_time\n",
    "# print(\"Seconds taken: \" + str(newtime))\n",
    "# start_time = time.time()\n",
    "# example2 = Audiopackage(input_file2, \"exact\")\n",
    "# newtime2 = time.time() - start_time\n",
    "# print(\"Seconds taken: \" + str(newtime2))\n",
    "# start_time = time.time()\n",
    "# example3 = Audiopackage(input_file1, \"similar\")\n",
    "# newtime3 = time.time() - start_time\n",
    "# print(\"Seconds taken: \" + str(newtime3))\n",
    "# start_time = time.time()\n",
    "# example4 = Audiopackage(input_file2, \"similar\")\n",
    "# newtime4 = time.time() - start_time\n",
    "# print(\"Seconds taken: \" + str(newtime4))\n",
    "# start_time = time.time()\n",
    "# example5 = Audiopackage(input_file1, \"spectrogram\")\n",
    "# newtime5 = time.time() - start_time\n",
    "# print(\"Seconds taken: \" + str(newtime5))\n",
    "# start_time = time.time()\n",
    "# example6 = Audiopackage(input_file2, \"spectrogram\")\n",
    "# newtime6 = time.time() - start_time\n",
    "# print(\"Seconds taken: \" + str(newtime6))"
   ]
  },
  {
   "cell_type": "code",
   "execution_count": 5,
   "metadata": {},
   "outputs": [],
   "source": [
    "# example.printInfo()\n",
    "# example2.printInfo()\n",
    "# example3.printInfo()\n",
    "# example4.printInfo()\n",
    "# example5.printInfo()\n",
    "# example6.printInfo()"
   ]
  },
  {
   "cell_type": "code",
   "execution_count": 6,
   "metadata": {},
   "outputs": [],
   "source": [
    "def find_non_zero_ratio(sample):\n",
    "    count = 0\n",
    "    for i in range(len(sample)):\n",
    "        if sample[i][0] == 0 and sample[i][1] == 0:\n",
    "            count += 1\n",
    "    return round(1 - count/len(sample),4)\n"
   ]
  },
  {
   "cell_type": "code",
   "execution_count": 7,
   "metadata": {},
   "outputs": [],
   "source": [
    "import soundfile as sf\n",
    "import zipfile\n",
    "import os\n",
    "import time\n",
    "\n",
    "def compare_compression_ratio(input_file):\n",
    "    # Specify the output file paths\n",
    "    flac_output_file = 'compressed.flac'\n",
    "    zip_output_file = 'compressed.zip'\n",
    "\n",
    "    # Read the WAV file\n",
    "    data, samplerate = sf.read(input_file)\n",
    "\n",
    "    start_time = time.time()\n",
    "    # Write the FLAC file\n",
    "    sf.write(flac_output_file, data, samplerate, format='flac')\n",
    "    # time\n",
    "    flac_time = time.time() - start_time\n",
    "\n",
    "    start_time = time.time()\n",
    "    # Create a new ZIP file\n",
    "    with zipfile.ZipFile(zip_output_file, 'w', compression=zipfile.ZIP_DEFLATED) as zipf:\n",
    "        # Add the WAV file to the ZIP file\n",
    "        zipf.write(input_file, arcname='audio.wav')\n",
    "    # time\n",
    "    zip_time = time.time() - start_time\n",
    "\n",
    "    # Get the file sizes\n",
    "    input_size = os.path.getsize(input_file)\n",
    "    flac_size = os.path.getsize(flac_output_file)\n",
    "    zip_size = os.path.getsize(zip_output_file)\n",
    "\n",
    "    start_time = time.time()\n",
    "    tryExact = Audiopackage(input_file, \"exact\")\n",
    "    exact_time = time.time() - start_time\n",
    "\n",
    "    start_time = time.time()\n",
    "    trySimilar = Audiopackage(input_file, \"similar\")\n",
    "    similar_time = time.time() - start_time\n",
    "\n",
    "    start_time = time.time()\n",
    "    trySpectrogram = Audiopackage(input_file, \"spectrogram\")\n",
    "    spectrogram_time = time.time() - start_time\n",
    "    \n",
    "    spectrogram_ratio = trySpectrogram.compratio()\n",
    "    similar_ratio = trySimilar.compratio()\n",
    "    exact_ratio = tryExact.compratio()\n",
    "    flac_ratio = flac_size / input_size\n",
    "    zip_ratio = zip_size / input_size\n",
    "    ratiofamily = [zip_ratio, flac_ratio, exact_ratio, similar_ratio, spectrogram_ratio]\n",
    "    timefamily = [zip_time, flac_time, exact_time, similar_time, spectrogram_time]\n",
    "    non_zero_ratio = find_non_zero_ratio(data)\n",
    "    baseline = non_zero_ratio\n",
    "    \n",
    "    # Calculate the compression ratios\n",
    "   \n",
    "    # Delete the temporary files\n",
    "    os.remove(flac_output_file)\n",
    "    os.remove(zip_output_file)\n",
    "    return [ratiofamily, timefamily, baseline]\n"
   ]
  },
  {
   "cell_type": "code",
   "execution_count": 8,
   "metadata": {},
   "outputs": [],
   "source": [
    "def resultanalysis(ratiofamily, timefamily, baseline):\n",
    "    print(\"Baseline: \" + str(baseline))\n",
    "    print(\"ZIP Compression Ratio: \" + str(ratiofamily[0]))\n",
    "    print(\"FLAC Compression Ratio: \" + str(ratiofamily[1]))\n",
    "    print(\"Exact Compression Ratio: \" + str(ratiofamily[2]))\n",
    "    print(\"Similar Compression Ratio: \" + str(ratiofamily[3]))\n",
    "    print(\"Spectrogram Compression Ratio: \" + str(ratiofamily[4]))\n",
    "    print(\"ZIP Compression Time: \" + str(timefamily[0]))\n",
    "    print(\"FLAC Compression Time: \" + str(timefamily[1]))\n",
    "    print(\"Exact Compression Time: \" + str(timefamily[2]))\n",
    "    print(\"Similar Compression Time: \" + str(timefamily[3]))\n",
    "    print(\"Spectrogram Compression Time: \" + str(timefamily[4]))\n",
    "\n",
    "# a = compare_compression_ratio(input_file1)\n",
    "# resultanalysis(a[0], a[1], a[2])"
   ]
  },
  {
   "cell_type": "code",
   "execution_count": 9,
   "metadata": {},
   "outputs": [],
   "source": [
    "# a = compare_compression_ratio(input_file2)\n",
    "# resultanalysis(a[0], a[1], a[2])"
   ]
  },
  {
   "cell_type": "code",
   "execution_count": 10,
   "metadata": {},
   "outputs": [
    {
     "name": "stdout",
     "output_type": "stream",
     "text": [
      "data/Hercules_Dry(AbelEdit)/Hercules_dry_Brass_Trumpet.wav\n",
      "data/Hercules_Dry(AbelEdit)/Hercules_dry_Choir_Women.wav\n",
      "data/Hercules_Dry(AbelEdit)/Hercules_dry_FX_Kshmr scary sweep.wav\n",
      "data/Hercules_Dry(AbelEdit)/Hercules_dry_Strings_Violin.wav\n",
      "data/Hercules_Dry(AbelEdit)/Hercules_dry_FX_Kshmr impact.wav\n",
      "data/Hercules_Dry(AbelEdit)/Hercules_dry_Bass_BassTop.wav\n",
      "data/Hercules_Dry(AbelEdit)/Hercules_dry_FX_Riser Gated.wav\n",
      "data/Hercules_Dry(AbelEdit)/Hercules_dry_Strings_Viola.wav\n",
      "data/Hercules_Dry(AbelEdit)/Hercules_dry_Inst_Dubs_Melodic.wav\n",
      "data/Hercules_Dry(AbelEdit)/Hercules_dry_FX_Mini sweep.wav\n",
      "data/Hercules_Dry(AbelEdit)/Hercules_dry_Inst_Dubs.wav\n",
      "data/Hercules_Dry(AbelEdit)/Hercules_dry_Strings_Low8va.wav\n",
      "data/Hercules_Dry(AbelEdit)/Hercules_dry_FX_Kshmr Ambience.wav\n",
      "data/Hercules_Dry(AbelEdit)/Hercules_dry_FX_Mini Sweep 2.wav\n",
      "data/Hercules_Dry(AbelEdit)/Hercules_dry_Brass_Low Brs.wav\n",
      "data/Hercules_Dry(AbelEdit)/Hercules_dry_Strings_High8va.wav\n",
      "data/Hercules_Dry(AbelEdit)/Hercules_dry_Orch_Nexusflute.wav\n",
      "data/Hercules_Dry(AbelEdit)/Hercules_dry_Drums_Orchestral Crash.wav\n",
      "data/Hercules_Dry(AbelEdit)/Hercules_dry_Drums_Snare.wav\n",
      "data/Hercules_Dry(AbelEdit)/Hercules_dry_FX_Riser_Thriller.wav\n",
      "data/Hercules_Dry(AbelEdit)/Hercules_dry_Drums_Quantum Hit 1.wav\n",
      "data/Hercules_Dry(AbelEdit)/Hercules_dry_FX_Chime Riser.wav\n",
      "data/Hercules_Dry(AbelEdit)/Hercules_dry_Inst_Piano.wav\n",
      "data/Hercules_Dry(AbelEdit)/Hercules_dry_Drums_Ride.wav\n",
      "data/Hercules_Dry(AbelEdit)/Hercules_dry_Brass_Trombone.wav\n",
      "data/Hercules_Dry(AbelEdit)/Hercules_dry_Drums_Kick.wav\n",
      "data/Hercules_Dry(AbelEdit)/Hercules_dry_FX_Zip.wav\n",
      "data/Hercules_Dry(AbelEdit)/Hercules_dry_Drums_Quantum Hit 2.wav\n",
      "data/Hercules_Dry(AbelEdit)/Hercules_dry_Drums_Loop.wav\n",
      "data/Hercules_Dry(AbelEdit)/Hercules_dry_FX_Kshmr Growl.wav\n",
      "data/Hercules_Dry(AbelEdit)/Hercules_dry_Strings_Celli.wav\n",
      "data/Hercules_Dry(AbelEdit)/Hercules_dry_Choir_Men.wav\n",
      "data/Hercules_Dry(AbelEdit)/Hercules_dry_Orch_riser.wav\n",
      "data/Hercules_Dry(AbelEdit)/Hercules_dry_Guitar_Bass.wav\n",
      "data/Hercules_Dry(AbelEdit)/Hercules_dry_Bass_Sub.wav\n",
      "data/Hercules_Dry(AbelEdit)/Hercules_dry_Guitar_Melody.wav\n",
      "data/Hercules_Dry(AbelEdit)/Hercules_dry_Drums_Crash.wav\n",
      "data/Hercules_Dry(AbelEdit)/Hercules_dry_Orch_Celeste.wav\n",
      "data/Hercules_Dry(AbelEdit)/Hercules_dry_FX_Big Snare.wav\n",
      "data/Hercules_Dry(AbelEdit)/Hercules_dry_Brass_Horns.wav\n",
      "data/Hercules_Dry(AbelEdit)/Hercules_dry_FX_Kshmr Exhaust.wav\n",
      "data/Hercules_Dry(AbelEdit)/Hercules_dry_FX_Kshmr sub drop.wav\n",
      "data/Hercules_Dry(AbelEdit)/Hercules_dry_FX_Clock_ticking.wav\n",
      "data/Hercules_Dry(AbelEdit)/Hercules_dry_Drums)Crash Body.wav\n"
     ]
    }
   ],
   "source": [
    "#여기부터는 개별 파일이 아닌 폴더를 대상으로 압축률을 측정하는 코드\n",
    "\n",
    "import glob\n",
    "\n",
    "# Specify the folder path\n",
    "folder_path = 'data/Hercules_Dry(AbelEdit)'\n",
    "\n",
    "# Find all WAV files in the folder\n",
    "wav_files = glob.glob(folder_path + '/*.wav')\n",
    "\n",
    "# Print the list of WAV files\n",
    "for file in wav_files:\n",
    "    print(file)\n"
   ]
  },
  {
   "cell_type": "code",
   "execution_count": 11,
   "metadata": {},
   "outputs": [],
   "source": [
    "def analyze_folder(folder_path):\n",
    "    # Find all WAV files in the folder\n",
    "    wav_files = glob.glob(folder_path + '/*.wav')\n",
    "    resultList = []\n",
    "    # Print the list of WAV files\n",
    "    for file in wav_files:\n",
    "        print(file)\n",
    "        resultList.append(compare_compression_ratio(file))\n",
    "    return [resultList]\n"
   ]
  },
  {
   "cell_type": "code",
   "execution_count": 12,
   "metadata": {},
   "outputs": [
    {
     "name": "stdout",
     "output_type": "stream",
     "text": [
      "data/Hercules_Dry(AbelEdit)/Hercules_dry_Brass_Trumpet.wav\n"
     ]
    },
    {
     "name": "stderr",
     "output_type": "stream",
     "text": [
      "/Users/hyeonseokc/Desktop/GHCho/Multitrack-Compress/compression_custom.py:10: WavFileWarning: Chunk (non-data) not understood, skipping it.\n",
      "  samplerate, audio = wavfile.read(audiofile)\n",
      "/Users/hyeonseokc/Desktop/GHCho/Multitrack-Compress/compression_custom.py:10: WavFileWarning: Chunk (non-data) not understood, skipping it.\n",
      "  samplerate, audio = wavfile.read(audiofile)\n"
     ]
    },
    {
     "name": "stdout",
     "output_type": "stream",
     "text": [
      "data/Hercules_Dry(AbelEdit)/Hercules_dry_Choir_Women.wav\n"
     ]
    },
    {
     "name": "stderr",
     "output_type": "stream",
     "text": [
      "/Users/hyeonseokc/Desktop/GHCho/Multitrack-Compress/compression_custom.py:10: WavFileWarning: Chunk (non-data) not understood, skipping it.\n",
      "  samplerate, audio = wavfile.read(audiofile)\n",
      "/Users/hyeonseokc/Desktop/GHCho/Multitrack-Compress/compression_custom.py:10: WavFileWarning: Chunk (non-data) not understood, skipping it.\n",
      "  samplerate, audio = wavfile.read(audiofile)\n",
      "/Users/hyeonseokc/Library/Python/3.9/lib/python/site-packages/librosa/core/spectrum.py:257: UserWarning: n_fft=4 is too large for input signal of length=1\n",
      "  warnings.warn(\n",
      "/Users/hyeonseokc/Library/Python/3.9/lib/python/site-packages/librosa/core/spectrum.py:257: UserWarning: n_fft=4 is too large for input signal of length=2\n",
      "  warnings.warn(\n",
      "/Users/hyeonseokc/Library/Python/3.9/lib/python/site-packages/librosa/core/spectrum.py:257: UserWarning: n_fft=4 is too large for input signal of length=3\n",
      "  warnings.warn(\n"
     ]
    },
    {
     "name": "stdout",
     "output_type": "stream",
     "text": [
      "data/Hercules_Dry(AbelEdit)/Hercules_dry_FX_Kshmr scary sweep.wav\n"
     ]
    },
    {
     "name": "stderr",
     "output_type": "stream",
     "text": [
      "/Users/hyeonseokc/Desktop/GHCho/Multitrack-Compress/compression_custom.py:10: WavFileWarning: Chunk (non-data) not understood, skipping it.\n",
      "  samplerate, audio = wavfile.read(audiofile)\n"
     ]
    },
    {
     "name": "stdout",
     "output_type": "stream",
     "text": [
      "data/Hercules_Dry(AbelEdit)/Hercules_dry_Strings_Violin.wav\n"
     ]
    },
    {
     "name": "stderr",
     "output_type": "stream",
     "text": [
      "/Users/hyeonseokc/Desktop/GHCho/Multitrack-Compress/compression_custom.py:10: WavFileWarning: Chunk (non-data) not understood, skipping it.\n",
      "  samplerate, audio = wavfile.read(audiofile)\n"
     ]
    },
    {
     "name": "stdout",
     "output_type": "stream",
     "text": [
      "data/Hercules_Dry(AbelEdit)/Hercules_dry_FX_Kshmr impact.wav\n",
      "data/Hercules_Dry(AbelEdit)/Hercules_dry_Bass_BassTop.wav\n"
     ]
    },
    {
     "name": "stderr",
     "output_type": "stream",
     "text": [
      "/Users/hyeonseokc/Desktop/GHCho/Multitrack-Compress/compression_custom.py:10: WavFileWarning: Chunk (non-data) not understood, skipping it.\n",
      "  samplerate, audio = wavfile.read(audiofile)\n",
      "/Users/hyeonseokc/Library/Python/3.9/lib/python/site-packages/librosa/core/spectrum.py:257: UserWarning: n_fft=4 is too large for input signal of length=1\n",
      "  warnings.warn(\n",
      "/Users/hyeonseokc/Library/Python/3.9/lib/python/site-packages/librosa/core/spectrum.py:257: UserWarning: n_fft=4 is too large for input signal of length=2\n",
      "  warnings.warn(\n",
      "/Users/hyeonseokc/Library/Python/3.9/lib/python/site-packages/librosa/core/spectrum.py:257: UserWarning: n_fft=4 is too large for input signal of length=3\n",
      "  warnings.warn(\n"
     ]
    },
    {
     "ename": "KeyboardInterrupt",
     "evalue": "",
     "output_type": "error",
     "traceback": [
      "\u001b[0;31m---------------------------------------------------------------------------\u001b[0m",
      "\u001b[0;31mKeyboardInterrupt\u001b[0m                         Traceback (most recent call last)",
      "\u001b[1;32m/Users/hyeonseokc/Desktop/GHCho/Multitrack-Compress/ModuleImported.ipynb 셀 12\u001b[0m line \u001b[0;36m1\n\u001b[0;32m----> <a href='vscode-notebook-cell:/Users/hyeonseokc/Desktop/GHCho/Multitrack-Compress/ModuleImported.ipynb#X14sZmlsZQ%3D%3D?line=0'>1</a>\u001b[0m resultList \u001b[39m=\u001b[39m analyze_folder(folder_path)    \n",
      "\u001b[1;32m/Users/hyeonseokc/Desktop/GHCho/Multitrack-Compress/ModuleImported.ipynb 셀 12\u001b[0m line \u001b[0;36m8\n\u001b[1;32m      <a href='vscode-notebook-cell:/Users/hyeonseokc/Desktop/GHCho/Multitrack-Compress/ModuleImported.ipynb#X14sZmlsZQ%3D%3D?line=5'>6</a>\u001b[0m \u001b[39mfor\u001b[39;00m file \u001b[39min\u001b[39;00m wav_files:\n\u001b[1;32m      <a href='vscode-notebook-cell:/Users/hyeonseokc/Desktop/GHCho/Multitrack-Compress/ModuleImported.ipynb#X14sZmlsZQ%3D%3D?line=6'>7</a>\u001b[0m     \u001b[39mprint\u001b[39m(file)\n\u001b[0;32m----> <a href='vscode-notebook-cell:/Users/hyeonseokc/Desktop/GHCho/Multitrack-Compress/ModuleImported.ipynb#X14sZmlsZQ%3D%3D?line=7'>8</a>\u001b[0m     resultList\u001b[39m.\u001b[39mappend(compare_compression_ratio(file))\n\u001b[1;32m      <a href='vscode-notebook-cell:/Users/hyeonseokc/Desktop/GHCho/Multitrack-Compress/ModuleImported.ipynb#X14sZmlsZQ%3D%3D?line=8'>9</a>\u001b[0m \u001b[39mreturn\u001b[39;00m [resultList]\n",
      "\u001b[1;32m/Users/hyeonseokc/Desktop/GHCho/Multitrack-Compress/ModuleImported.ipynb 셀 12\u001b[0m line \u001b[0;36m4\n\u001b[1;32m     <a href='vscode-notebook-cell:/Users/hyeonseokc/Desktop/GHCho/Multitrack-Compress/ModuleImported.ipynb#X14sZmlsZQ%3D%3D?line=38'>39</a>\u001b[0m similar_time \u001b[39m=\u001b[39m time\u001b[39m.\u001b[39mtime() \u001b[39m-\u001b[39m start_time\n\u001b[1;32m     <a href='vscode-notebook-cell:/Users/hyeonseokc/Desktop/GHCho/Multitrack-Compress/ModuleImported.ipynb#X14sZmlsZQ%3D%3D?line=40'>41</a>\u001b[0m start_time \u001b[39m=\u001b[39m time\u001b[39m.\u001b[39mtime()\n\u001b[0;32m---> <a href='vscode-notebook-cell:/Users/hyeonseokc/Desktop/GHCho/Multitrack-Compress/ModuleImported.ipynb#X14sZmlsZQ%3D%3D?line=41'>42</a>\u001b[0m trySpectrogram \u001b[39m=\u001b[39m Audiopackage(input_file, \u001b[39m\"\u001b[39;49m\u001b[39mspectrogram\u001b[39;49m\u001b[39m\"\u001b[39;49m)\n\u001b[1;32m     <a href='vscode-notebook-cell:/Users/hyeonseokc/Desktop/GHCho/Multitrack-Compress/ModuleImported.ipynb#X14sZmlsZQ%3D%3D?line=42'>43</a>\u001b[0m spectrogram_time \u001b[39m=\u001b[39m time\u001b[39m.\u001b[39mtime() \u001b[39m-\u001b[39m start_time\n\u001b[1;32m     <a href='vscode-notebook-cell:/Users/hyeonseokc/Desktop/GHCho/Multitrack-Compress/ModuleImported.ipynb#X14sZmlsZQ%3D%3D?line=44'>45</a>\u001b[0m spectrogram_ratio \u001b[39m=\u001b[39m trySpectrogram\u001b[39m.\u001b[39mcompratio()\n",
      "File \u001b[0;32m~/Desktop/GHCho/Multitrack-Compress/compression_custom.py:28\u001b[0m, in \u001b[0;36mAudiopackage.__init__\u001b[0;34m(self, audiofile, parsetype)\u001b[0m\n\u001b[1;32m     24\u001b[0m \u001b[39mself\u001b[39m\u001b[39m.\u001b[39maudioIndexSize \u001b[39m=\u001b[39m \u001b[39mlen\u001b[39m(\u001b[39mself\u001b[39m\u001b[39m.\u001b[39maudioIndex)\n\u001b[1;32m     25\u001b[0m \u001b[39m#print(\"AudioPackage Initialized\")\u001b[39;00m\n\u001b[1;32m     26\u001b[0m \u001b[39m#print(\"Audio Length: \", self.length)\u001b[39;00m\n\u001b[1;32m     27\u001b[0m \u001b[39m#print(\"Audio Index length: \", self.audioIndex)\u001b[39;00m\n\u001b[0;32m---> 28\u001b[0m \u001b[39mself\u001b[39;49m\u001b[39m.\u001b[39;49mparse()\n",
      "File \u001b[0;32m~/Desktop/GHCho/Multitrack-Compress/compression_custom.py:72\u001b[0m, in \u001b[0;36mAudiopackage.parse\u001b[0;34m(self)\u001b[0m\n\u001b[1;32m     70\u001b[0m     \u001b[39mself\u001b[39m\u001b[39m.\u001b[39mapply_compare_similar(target, duration, start)\n\u001b[1;32m     71\u001b[0m \u001b[39melif\u001b[39;00m \u001b[39mself\u001b[39m\u001b[39m.\u001b[39mparsetype \u001b[39m==\u001b[39m \u001b[39m\"\u001b[39m\u001b[39mspectrogram\u001b[39m\u001b[39m\"\u001b[39m:\n\u001b[0;32m---> 72\u001b[0m     \u001b[39mself\u001b[39;49m\u001b[39m.\u001b[39;49mapply_compare_spectrogram(target, duration, start, target_lrfile)\n",
      "File \u001b[0;32m~/Desktop/GHCho/Multitrack-Compress/compression_custom.py:98\u001b[0m, in \u001b[0;36mAudiopackage.apply_compare_spectrogram\u001b[0;34m(self, target, duration, start, target_lrfile)\u001b[0m\n\u001b[1;32m     96\u001b[0m \u001b[39mfor\u001b[39;00m i \u001b[39min\u001b[39;00m \u001b[39mrange\u001b[39m(\u001b[39mself\u001b[39m\u001b[39m.\u001b[39msegmentSize):\n\u001b[1;32m     97\u001b[0m     \u001b[39mif\u001b[39;00m \u001b[39mself\u001b[39m\u001b[39m.\u001b[39mlengthSimilar(i, duration) \u001b[39m==\u001b[39m \u001b[39mTrue\u001b[39;00m:\n\u001b[0;32m---> 98\u001b[0m         \u001b[39mif\u001b[39;00m compare_spectrogram(\u001b[39mself\u001b[39;49m\u001b[39m.\u001b[39;49maudiosegmentlist[i]\u001b[39m.\u001b[39;49mlrfile, target_lrfile) \u001b[39m>\u001b[39m \u001b[39m0.99\u001b[39m:\n\u001b[1;32m     99\u001b[0m             \u001b[39mself\u001b[39m\u001b[39m.\u001b[39maudiosegmentlist[i]\u001b[39m.\u001b[39mappend(start)\n\u001b[1;32m    100\u001b[0m             \u001b[39mreturn\u001b[39;00m\n",
      "File \u001b[0;32m~/Desktop/GHCho/Multitrack-Compress/AudioUtilsCustom.py:151\u001b[0m, in \u001b[0;36mcompare_spectrogram\u001b[0;34m(data1, data2)\u001b[0m\n\u001b[1;32m    149\u001b[0m \u001b[39mdef\u001b[39;00m \u001b[39mcompare_spectrogram\u001b[39m(data1, data2):\n\u001b[1;32m    150\u001b[0m     dt1, dt2 \u001b[39m=\u001b[39m match_list(data1, data2)\n\u001b[0;32m--> 151\u001b[0m     spectrogram1 \u001b[39m=\u001b[39m get_spectrogram(dt1)\n\u001b[1;32m    152\u001b[0m     spectrogram2 \u001b[39m=\u001b[39m get_spectrogram(dt2)\n\u001b[1;32m    153\u001b[0m     \u001b[39m# Flatten the spectrogram data\u001b[39;00m\n",
      "File \u001b[0;32m~/Desktop/GHCho/Multitrack-Compress/AudioUtilsCustom.py:145\u001b[0m, in \u001b[0;36mget_spectrogram\u001b[0;34m(data, max_fft)\u001b[0m\n\u001b[1;32m    143\u001b[0m n_fft \u001b[39m=\u001b[39m \u001b[39m2\u001b[39m\u001b[39m*\u001b[39m\u001b[39m*\u001b[39m\u001b[39mint\u001b[39m(np\u001b[39m.\u001b[39mfloor(np\u001b[39m.\u001b[39mlog2(signal_length)))\n\u001b[1;32m    144\u001b[0m n_fft \u001b[39m=\u001b[39m \u001b[39mmax\u001b[39m(\u001b[39mmin\u001b[39m(n_fft, max_fft), \u001b[39m4\u001b[39m)\n\u001b[0;32m--> 145\u001b[0m spectrogram \u001b[39m=\u001b[39m np\u001b[39m.\u001b[39mabs(lr\u001b[39m.\u001b[39;49mstft(data, n_fft \u001b[39m=\u001b[39;49m n_fft))\n\u001b[1;32m    146\u001b[0m \u001b[39mreturn\u001b[39;00m spectrogram\n",
      "File \u001b[0;32m~/Library/Python/3.9/lib/python/site-packages/librosa/core/spectrum.py:235\u001b[0m, in \u001b[0;36mstft\u001b[0;34m(y, n_fft, hop_length, win_length, window, center, dtype, pad_mode, out)\u001b[0m\n\u001b[1;32m    232\u001b[0m fft_window \u001b[39m=\u001b[39m get_window(window, win_length, fftbins\u001b[39m=\u001b[39m\u001b[39mTrue\u001b[39;00m)\n\u001b[1;32m    234\u001b[0m \u001b[39m# Pad the window out to n_fft size\u001b[39;00m\n\u001b[0;32m--> 235\u001b[0m fft_window \u001b[39m=\u001b[39m util\u001b[39m.\u001b[39;49mpad_center(fft_window, size\u001b[39m=\u001b[39mn_fft)\n\u001b[1;32m    237\u001b[0m \u001b[39m# Reshape so that the window can be broadcast\u001b[39;00m\n\u001b[1;32m    238\u001b[0m fft_window \u001b[39m=\u001b[39m util\u001b[39m.\u001b[39mexpand_to(fft_window, ndim\u001b[39m=\u001b[39m\u001b[39m1\u001b[39m \u001b[39m+\u001b[39m y\u001b[39m.\u001b[39mndim, axes\u001b[39m=\u001b[39m\u001b[39m-\u001b[39m\u001b[39m2\u001b[39m)\n",
      "File \u001b[0;32m~/Library/Python/3.9/lib/python/site-packages/lazy_loader/__init__.py:77\u001b[0m, in \u001b[0;36mattach.<locals>.__getattr__\u001b[0;34m(name)\u001b[0m\n\u001b[1;32m     75\u001b[0m \u001b[39melif\u001b[39;00m name \u001b[39min\u001b[39;00m attr_to_modules:\n\u001b[1;32m     76\u001b[0m     submod_path \u001b[39m=\u001b[39m \u001b[39mf\u001b[39m\u001b[39m\"\u001b[39m\u001b[39m{\u001b[39;00mpackage_name\u001b[39m}\u001b[39;00m\u001b[39m.\u001b[39m\u001b[39m{\u001b[39;00mattr_to_modules[name]\u001b[39m}\u001b[39;00m\u001b[39m\"\u001b[39m\n\u001b[0;32m---> 77\u001b[0m     submod \u001b[39m=\u001b[39m importlib\u001b[39m.\u001b[39;49mimport_module(submod_path)\n\u001b[1;32m     78\u001b[0m     attr \u001b[39m=\u001b[39m \u001b[39mgetattr\u001b[39m(submod, name)\n\u001b[1;32m     80\u001b[0m     \u001b[39m# If the attribute lives in a file (module) with the same\u001b[39;00m\n\u001b[1;32m     81\u001b[0m     \u001b[39m# name as the attribute, ensure that the attribute and *not*\u001b[39;00m\n\u001b[1;32m     82\u001b[0m     \u001b[39m# the module is accessible on the package.\u001b[39;00m\n",
      "File \u001b[0;32m/Applications/Xcode.app/Contents/Developer/Library/Frameworks/Python3.framework/Versions/3.9/lib/python3.9/importlib/__init__.py:127\u001b[0m, in \u001b[0;36mimport_module\u001b[0;34m(name, package)\u001b[0m\n\u001b[1;32m    125\u001b[0m             \u001b[39mbreak\u001b[39;00m\n\u001b[1;32m    126\u001b[0m         level \u001b[39m+\u001b[39m\u001b[39m=\u001b[39m \u001b[39m1\u001b[39m\n\u001b[0;32m--> 127\u001b[0m \u001b[39mreturn\u001b[39;00m _bootstrap\u001b[39m.\u001b[39;49m_gcd_import(name[level:], package, level)\n",
      "File \u001b[0;32m<frozen importlib._bootstrap>:1030\u001b[0m, in \u001b[0;36m_gcd_import\u001b[0;34m(name, package, level)\u001b[0m\n",
      "File \u001b[0;32m<frozen importlib._bootstrap>:1014\u001b[0m, in \u001b[0;36m_find_and_load\u001b[0;34m(name, import_)\u001b[0m\n",
      "\u001b[0;31mKeyboardInterrupt\u001b[0m: "
     ]
    }
   ],
   "source": [
    "resultList = analyze_folder(folder_path)    "
   ]
  },
  {
   "cell_type": "code",
   "execution_count": null,
   "metadata": {},
   "outputs": [
    {
     "name": "stdout",
     "output_type": "stream",
     "text": [
      "Average non-zero ratio: 0.75865\n",
      "Average flac ratio: 0.07329174293944803\n",
      "Average zip ratio: 0.6463672717099354\n",
      "Zip to non-zero Compressoin ratio: 0.8519966673827658\n",
      "FLAC to non-zero Compressoin ratio: 0.09660811037955318\n",
      "Zip to FLAC Compressoin ratio: 0.11339024444346948\n"
     ]
    }
   ],
   "source": [
    "non_zero_ratio = 0\n",
    "flac_ratio = 0\n",
    "zip_ratio = 0\n",
    "for i in range(len(resultList)):\n",
    "    non_zero_ratio += float(resultList[i][0])\n",
    "    flac_ratio += float(resultList[i][1])\n",
    "    zip_ratio += float(resultList[i][2])\n",
    "\n",
    "print(\"Average non-zero ratio: \" + str(non_zero_ratio/len(resultList)))\n",
    "print(\"Average flac ratio: \" + str(flac_ratio/len(resultList)))\n",
    "print(\"Average zip ratio: \" + str(zip_ratio/len(resultList)))\n",
    "\n",
    "print(\"Zip to non-zero Compression ratio: \" + str(zip_ratio/non_zero_ratio))\n",
    "print(\"FLAC to non-zero Compression ratio: \" + str(flac_ratio/non_zero_ratio))\n",
    "print(\"Zip to FLAC Compression ratio: \" + str(flac_ratio/zip_ratio))"
   ]
  },
  {
   "cell_type": "code",
   "execution_count": null,
   "metadata": {},
   "outputs": [],
   "source": [
    "import matplotlib.pyplot as plt\n",
    "\n",
    "average_ratios = [non_zero_ratio/len(resultList), flac_ratio/len(resultList), zip_ratio/len(resultList)]\n",
    "compression_ratios = [zip_ratio/non_zero_ratio, flac_ratio/non_zero_ratio, flac_ratio/zip_ratio]\n",
    "\n",
    "average_labels = ['Non-Zero', 'FLAC', 'ZIP']\n",
    "compression_labels = ['ZIP/Non-Zero', 'FLAC/Non-Zero', 'FLAC/ZIP']\n",
    "\n",
    "# average ratios\n",
    "plt.figure(figsize=(10, 6))\n",
    "plt.bar(average_labels, average_ratios, yerr=np.std(np.array(resultList), axis=0), color=['blue', 'green', 'red'])\n",
    "plt.title('Average Ratios')\n",
    "plt.ylabel('Average Ratio Value')\n",
    "for i, v in enumerate(average_ratios):\n",
    "    plt.text(i, v + 0.01, f\"{v:.2f}\", ha='center', va='bottom')\n",
    "plt.show()\n",
    "\n",
    "# compression ratios\n",
    "plt.figure(figsize=(10, 6))\n",
    "plt.bar(compression_labels, compression_ratios, color=['purple', 'orange', 'cyan'])\n",
    "plt.title('Compression Ratios')\n",
    "plt.ylabel('Ratio Value')\n",
    "for i, v in enumerate(compression_ratios):\n",
    "    plt.text(i, v + 0.01, f\"{v:.2f}\", ha='center', va='bottom')\n",
    "plt.show()\n",
    "\n"
   ]
  }
 ],
 "metadata": {
  "kernelspec": {
   "display_name": "Python 3",
   "language": "python",
   "name": "python3"
  },
  "language_info": {
   "codemirror_mode": {
    "name": "ipython",
    "version": 3
   },
   "file_extension": ".py",
   "mimetype": "text/x-python",
   "name": "python",
   "nbconvert_exporter": "python",
   "pygments_lexer": "ipython3",
   "version": "3.9.6"
  }
 },
 "nbformat": 4,
 "nbformat_minor": 2
}
